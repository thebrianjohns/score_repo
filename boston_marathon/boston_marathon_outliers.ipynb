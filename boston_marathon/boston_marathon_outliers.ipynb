{
 "cells": [
  {
   "cell_type": "markdown",
   "id": "03a846d5",
   "metadata": {},
   "source": [
    "# SCORE Sports Data Repository Questions\n",
    "## Boston Marathon"
   ]
  },
  {
   "cell_type": "markdown",
   "id": "d5a8c0f0",
   "metadata": {},
   "source": [
    "### Motivation\n",
    "\n",
    "The Boston Marathon is an annual road race that takes place in the City of Boston Massachusetts. Attracting thousands of runners of varying skill and experience, year after year participants from around the world gather to compete for world records, divisional records, and personal bests. Examining the results of these athletes yields an interesting look into the spread and distribution of the times of all runners who successfully completed the historic race."
   ]
  },
  {
   "cell_type": "markdown",
   "id": "88c728c3",
   "metadata": {},
   "source": [
    "### Questions"
   ]
  },
  {
   "cell_type": "markdown",
   "id": "ccb5a6ca",
   "metadata": {},
   "source": [
    "1. What summary statistics are relevant to examine for finishing time?\n",
    "\n",
    "2. Which race times would be considered outliers?\n",
    "\n",
    "3. Are there extreme outliers?\n",
    "\n",
    "4. Which runner, the top male or top female, was more remarkable in comparison to their respective fields?"
   ]
  },
  {
   "cell_type": "markdown",
   "id": "ca91eef7",
   "metadata": {},
   "source": [
    "### Loading Data and Exploratory Data Analysis"
   ]
  },
  {
   "cell_type": "code",
   "execution_count": 1,
   "id": "3adb9748",
   "metadata": {},
   "outputs": [],
   "source": [
    "import pandas as pd\n",
    "import numpy as np\n",
    "import matplotlib.pyplot as plt\n",
    "import seaborn as sns"
   ]
  },
  {
   "cell_type": "code",
   "execution_count": 2,
   "id": "b21861ce",
   "metadata": {},
   "outputs": [],
   "source": [
    "df = pd.read_csv('boston_marathon_2023.csv')"
   ]
  },
  {
   "cell_type": "code",
   "execution_count": 3,
   "id": "ce231e3a",
   "metadata": {},
   "outputs": [
    {
     "data": {
      "text/html": [
       "<div>\n",
       "<style scoped>\n",
       "    .dataframe tbody tr th:only-of-type {\n",
       "        vertical-align: middle;\n",
       "    }\n",
       "\n",
       "    .dataframe tbody tr th {\n",
       "        vertical-align: top;\n",
       "    }\n",
       "\n",
       "    .dataframe thead th {\n",
       "        text-align: right;\n",
       "    }\n",
       "</style>\n",
       "<table border=\"1\" class=\"dataframe\">\n",
       "  <thead>\n",
       "    <tr style=\"text-align: right;\">\n",
       "      <th></th>\n",
       "      <th>age_group</th>\n",
       "      <th>place_overall</th>\n",
       "      <th>place_gender</th>\n",
       "      <th>place_division</th>\n",
       "      <th>name</th>\n",
       "      <th>team</th>\n",
       "      <th>bib_number</th>\n",
       "      <th>half_time</th>\n",
       "      <th>finish_net</th>\n",
       "      <th>finish_gun</th>\n",
       "      <th>gender</th>\n",
       "      <th>half_time_sec</th>\n",
       "      <th>finish_net_sec</th>\n",
       "      <th>finish_gun_sec</th>\n",
       "      <th>finish_net_minutes</th>\n",
       "    </tr>\n",
       "  </thead>\n",
       "  <tbody>\n",
       "    <tr>\n",
       "      <th>0</th>\n",
       "      <td>18-39</td>\n",
       "      <td>1</td>\n",
       "      <td>1</td>\n",
       "      <td>1</td>\n",
       "      <td>Chebet, Evans</td>\n",
       "      <td>Team–</td>\n",
       "      <td>1</td>\n",
       "      <td>1H 2M 20S</td>\n",
       "      <td>2H 5M 54S</td>\n",
       "      <td>2H 5M 54S</td>\n",
       "      <td>M</td>\n",
       "      <td>3740.0</td>\n",
       "      <td>7554</td>\n",
       "      <td>7554</td>\n",
       "      <td>125.900000</td>\n",
       "    </tr>\n",
       "    <tr>\n",
       "      <th>1</th>\n",
       "      <td>18-39</td>\n",
       "      <td>2</td>\n",
       "      <td>2</td>\n",
       "      <td>2</td>\n",
       "      <td>Geay, Gabriel</td>\n",
       "      <td>Team–</td>\n",
       "      <td>3</td>\n",
       "      <td>1H 2M 20S</td>\n",
       "      <td>2H 6M 4S</td>\n",
       "      <td>2H 6M 4S</td>\n",
       "      <td>M</td>\n",
       "      <td>3740.0</td>\n",
       "      <td>7564</td>\n",
       "      <td>7564</td>\n",
       "      <td>126.066667</td>\n",
       "    </tr>\n",
       "    <tr>\n",
       "      <th>2</th>\n",
       "      <td>18-39</td>\n",
       "      <td>3</td>\n",
       "      <td>3</td>\n",
       "      <td>3</td>\n",
       "      <td>Kipruto, Benson</td>\n",
       "      <td>Team–</td>\n",
       "      <td>5</td>\n",
       "      <td>1H 2M 19S</td>\n",
       "      <td>2H 6M 6S</td>\n",
       "      <td>2H 6M 6S</td>\n",
       "      <td>M</td>\n",
       "      <td>3739.0</td>\n",
       "      <td>7566</td>\n",
       "      <td>7566</td>\n",
       "      <td>126.100000</td>\n",
       "    </tr>\n",
       "    <tr>\n",
       "      <th>3</th>\n",
       "      <td>18-39</td>\n",
       "      <td>4</td>\n",
       "      <td>4</td>\n",
       "      <td>4</td>\n",
       "      <td>Korir, Albert</td>\n",
       "      <td>Team–</td>\n",
       "      <td>19</td>\n",
       "      <td>1H 2M 20S</td>\n",
       "      <td>2H 8M 1S</td>\n",
       "      <td>2H 8M 1S</td>\n",
       "      <td>M</td>\n",
       "      <td>3740.0</td>\n",
       "      <td>7681</td>\n",
       "      <td>7681</td>\n",
       "      <td>128.016667</td>\n",
       "    </tr>\n",
       "    <tr>\n",
       "      <th>4</th>\n",
       "      <td>18-39</td>\n",
       "      <td>5</td>\n",
       "      <td>5</td>\n",
       "      <td>5</td>\n",
       "      <td>Talbi, Zouhair</td>\n",
       "      <td>Team–</td>\n",
       "      <td>31</td>\n",
       "      <td>1H 2M 20S</td>\n",
       "      <td>2H 8M 35S</td>\n",
       "      <td>2H 8M 35S</td>\n",
       "      <td>M</td>\n",
       "      <td>3740.0</td>\n",
       "      <td>7715</td>\n",
       "      <td>7715</td>\n",
       "      <td>128.583333</td>\n",
       "    </tr>\n",
       "  </tbody>\n",
       "</table>\n",
       "</div>"
      ],
      "text/plain": [
       "  age_group  place_overall  place_gender  place_division             name  \\\n",
       "0     18-39              1             1               1    Chebet, Evans   \n",
       "1     18-39              2             2               2    Geay, Gabriel   \n",
       "2     18-39              3             3               3  Kipruto, Benson   \n",
       "3     18-39              4             4               4    Korir, Albert   \n",
       "4     18-39              5             5               5   Talbi, Zouhair   \n",
       "\n",
       "    team bib_number  half_time finish_net finish_gun gender  half_time_sec  \\\n",
       "0  Team–          1  1H 2M 20S  2H 5M 54S  2H 5M 54S      M         3740.0   \n",
       "1  Team–          3  1H 2M 20S   2H 6M 4S   2H 6M 4S      M         3740.0   \n",
       "2  Team–          5  1H 2M 19S   2H 6M 6S   2H 6M 6S      M         3739.0   \n",
       "3  Team–         19  1H 2M 20S   2H 8M 1S   2H 8M 1S      M         3740.0   \n",
       "4  Team–         31  1H 2M 20S  2H 8M 35S  2H 8M 35S      M         3740.0   \n",
       "\n",
       "   finish_net_sec  finish_gun_sec  finish_net_minutes  \n",
       "0            7554            7554          125.900000  \n",
       "1            7564            7564          126.066667  \n",
       "2            7566            7566          126.100000  \n",
       "3            7681            7681          128.016667  \n",
       "4            7715            7715          128.583333  "
      ]
     },
     "execution_count": 3,
     "metadata": {},
     "output_type": "execute_result"
    }
   ],
   "source": [
    "df.head()"
   ]
  },
  {
   "cell_type": "code",
   "execution_count": 4,
   "id": "8f197bbc",
   "metadata": {},
   "outputs": [
    {
     "data": {
      "text/plain": [
       "(26598, 15)"
      ]
     },
     "execution_count": 4,
     "metadata": {},
     "output_type": "execute_result"
    }
   ],
   "source": [
    "df.shape"
   ]
  },
  {
   "cell_type": "code",
   "execution_count": 5,
   "id": "9cf2abc4",
   "metadata": {},
   "outputs": [
    {
     "data": {
      "image/png": "[encoded data removed]",
      "text/plain": [
       "<Figure size 800x400 with 1 Axes>"
      ]
     },
     "metadata": {},
     "output_type": "display_data"
    }
   ],
   "source": [
    "plt.figure(figsize = (8,4))\n",
    "sns.barplot(x = df['age_group'].value_counts().index, y = df['age_group'].value_counts().values)\n",
    "plt.ylabel('Count')\n",
    "plt.xlabel('Age Group')\n",
    "plt.title('Distribution of Age Groups in the Boston Marathon')\n",
    "plt.show()"
   ]
  },
  {
   "cell_type": "code",
   "execution_count": 6,
   "id": "7c9c1457",
   "metadata": {},
   "outputs": [
    {
     "data": {
      "text/plain": [
       "86"
      ]
     },
     "execution_count": 6,
     "metadata": {},
     "output_type": "execute_result"
    }
   ],
   "source": [
    "df['team'].nunique()"
   ]
  },
  {
   "cell_type": "code",
   "execution_count": 7,
   "id": "264d1d01",
   "metadata": {},
   "outputs": [
    {
     "data": {
      "text/plain": [
       "Team–                                      25340\n",
       "TeamTracksmith Boston Hares                   46\n",
       "TeamMisty Mountain Runners                    43\n",
       "TeamCharlotte Running Club                    42\n",
       "TeamBoston Athletic Association               41\n",
       "                                           ...  \n",
       "TeamSanta Clarita Runners                      3\n",
       "TeamTwin Cities Track Club                     3\n",
       "TeamRaritan Valley Road Runners                3\n",
       "TeamYellowstone Valley Distance Project        3\n",
       "TeamAnn Arbor Track Club                       3\n",
       "Name: team, Length: 86, dtype: int64"
      ]
     },
     "execution_count": 7,
     "metadata": {},
     "output_type": "execute_result"
    }
   ],
   "source": [
    "df['team'].value_counts()"
   ]
  },
  {
   "cell_type": "code",
   "execution_count": 8,
   "id": "5a0d5be8",
   "metadata": {},
   "outputs": [],
   "source": [
    "df['on_team'] = np.where(df['team'] != 'Team–', 1, 0)"
   ]
  },
  {
   "cell_type": "code",
   "execution_count": 9,
   "id": "d71a2ecf",
   "metadata": {},
   "outputs": [
    {
     "data": {
      "image/png": "[encoded data removed]",
      "text/plain": [
       "<Figure size 800x400 with 1 Axes>"
      ]
     },
     "metadata": {},
     "output_type": "display_data"
    }
   ],
   "source": [
    "plt.figure(figsize = (8,4))\n",
    "sns.barplot(x = df['on_team'].value_counts().index, y = df['on_team'].value_counts().values)\n",
    "plt.ylabel('Count')\n",
    "plt.xlabel('On Team')\n",
    "plt.title('Distribution of Runners On/Not On Running Teams in the Boston Marathon')\n",
    "plt.show()"
   ]
  },
  {
   "cell_type": "code",
   "execution_count": 10,
   "id": "9f3376ed",
   "metadata": {},
   "outputs": [
    {
     "data": {
      "image/png": "[encoded data removed]",
      "text/plain": [
       "<Figure size 800x400 with 1 Axes>"
      ]
     },
     "metadata": {},
     "output_type": "display_data"
    }
   ],
   "source": [
    "plt.figure(figsize = (8,4))\n",
    "sns.barplot(x = df['gender'].value_counts().index, y = df['gender'].value_counts().values)\n",
    "plt.ylabel('Count')\n",
    "plt.xlabel('Gender')\n",
    "plt.title('Distribution of Genders in the Boston Marathon')\n",
    "plt.show()"
   ]
  },
  {
   "cell_type": "markdown",
   "id": "384b6ea9",
   "metadata": {},
   "source": [
    "### 1. What summary statistics are relevant to examine for finishing time?"
   ]
  },
  {
   "cell_type": "markdown",
   "id": "908fb85e",
   "metadata": {},
   "source": [
    "There are 5 columns that seem to be related to the finishing time of the runner:\n",
    "- `finish_net`, finishing time timed from when they cross the starting gate, expressed as a string (2H 5M 54S)\n",
    "- `finish_gun`, finishing time of runner timed from when the starter gun is fired, expressed as a string\n",
    "- `finish_net_sec`, finishing time timed from when they cross the starting gate, expressed as an integer in seconds (7554)\n",
    "- `finish_gun_sec`, finishing time of runner timed from when the starter gun is fired, expressed as an integer in seconds\n",
    "- `finish_net_minutes`, finishing time timed from when they cross the starting gate, expressed as a float in minutes (125.9)\n",
    "\n",
    "The `_net` and the `_gun` columns seem to be redundant information, but I would like to confirm that before moving on."
   ]
  },
  {
   "cell_type": "code",
   "execution_count": 11,
   "id": "d31b8dde",
   "metadata": {},
   "outputs": [
    {
     "data": {
      "text/html": [
       "<div>\n",
       "<style scoped>\n",
       "    .dataframe tbody tr th:only-of-type {\n",
       "        vertical-align: middle;\n",
       "    }\n",
       "\n",
       "    .dataframe tbody tr th {\n",
       "        vertical-align: top;\n",
       "    }\n",
       "\n",
       "    .dataframe thead th {\n",
       "        text-align: right;\n",
       "    }\n",
       "</style>\n",
       "<table border=\"1\" class=\"dataframe\">\n",
       "  <thead>\n",
       "    <tr style=\"text-align: right;\">\n",
       "      <th></th>\n",
       "      <th>age_group</th>\n",
       "      <th>place_overall</th>\n",
       "      <th>place_gender</th>\n",
       "      <th>place_division</th>\n",
       "      <th>name</th>\n",
       "      <th>team</th>\n",
       "      <th>bib_number</th>\n",
       "      <th>half_time</th>\n",
       "      <th>finish_net</th>\n",
       "      <th>finish_gun</th>\n",
       "      <th>gender</th>\n",
       "      <th>half_time_sec</th>\n",
       "      <th>finish_net_sec</th>\n",
       "      <th>finish_gun_sec</th>\n",
       "      <th>finish_net_minutes</th>\n",
       "      <th>on_team</th>\n",
       "    </tr>\n",
       "  </thead>\n",
       "  <tbody>\n",
       "  </tbody>\n",
       "</table>\n",
       "</div>"
      ],
      "text/plain": [
       "Empty DataFrame\n",
       "Columns: [age_group, place_overall, place_gender, place_division, name, team, bib_number, half_time, finish_net, finish_gun, gender, half_time_sec, finish_net_sec, finish_gun_sec, finish_net_minutes, on_team]\n",
       "Index: []"
      ]
     },
     "execution_count": 11,
     "metadata": {},
     "output_type": "execute_result"
    }
   ],
   "source": [
    "df.loc[round(df['finish_net_sec']/60, 4) != round(df['finish_net_minutes'], 4)]"
   ]
  },
  {
   "cell_type": "code",
   "execution_count": 12,
   "id": "98b8dcdc",
   "metadata": {},
   "outputs": [],
   "source": [
    "def time_string_to_seconds(time_str):\n",
    "    # Split the string by spaces and extract hours, minutes, and seconds\n",
    "    time_parts = time_str.split()\n",
    "    hours = 0\n",
    "    minutes = 0\n",
    "    seconds = 0\n",
    "    for part in time_parts:\n",
    "        if 'H' in part:\n",
    "            hours = int(part[:-1])\n",
    "        elif 'M' in part:\n",
    "            minutes = int(part[:-1])\n",
    "        elif 'S' in part:\n",
    "            seconds = int(part[:-1])\n",
    "\n",
    "    # Calculate the total time in seconds\n",
    "    total_seconds = hours * 3600 + minutes * 60 + seconds\n",
    "    \n",
    "    return total_seconds"
   ]
  },
  {
   "cell_type": "code",
   "execution_count": 13,
   "id": "4bf3567d",
   "metadata": {},
   "outputs": [
    {
     "data": {
      "text/plain": [
       "7554"
      ]
     },
     "execution_count": 13,
     "metadata": {},
     "output_type": "execute_result"
    }
   ],
   "source": [
    "# Testing function\n",
    "time_string_to_seconds(df['finish_net'][0])"
   ]
  },
  {
   "cell_type": "code",
   "execution_count": 14,
   "id": "1a11dbf1",
   "metadata": {},
   "outputs": [
    {
     "data": {
      "text/plain": [
       "7554"
      ]
     },
     "execution_count": 14,
     "metadata": {},
     "output_type": "execute_result"
    }
   ],
   "source": [
    "# Testing matching\n",
    "df['finish_net_sec'][0]"
   ]
  },
  {
   "cell_type": "code",
   "execution_count": 15,
   "id": "6dcaa6b4",
   "metadata": {},
   "outputs": [
    {
     "data": {
      "text/plain": [
       "False"
      ]
     },
     "execution_count": 15,
     "metadata": {},
     "output_type": "execute_result"
    }
   ],
   "source": [
    "time_string_to_seconds(df['finish_net'][0]) != df['finish_net_sec'][0]"
   ]
  },
  {
   "cell_type": "code",
   "execution_count": 16,
   "id": "91b46230",
   "metadata": {},
   "outputs": [
    {
     "name": "stdout",
     "output_type": "stream",
     "text": [
      "All Rows for finish_net match the total finish_net_sec times\n"
     ]
    }
   ],
   "source": [
    "empty_list = []\n",
    "\n",
    "for n in list(range(0, df.shape[0])):\n",
    "    if time_string_to_seconds(df['finish_net'][n]) != df['finish_net_sec'][n]:\n",
    "        empty_list.append(n)\n",
    "        \n",
    "if len(empty_list) == 0:\n",
    "    print('All Rows for finish_net match the total finish_net_sec times')\n",
    "else:\n",
    "    print(n)"
   ]
  },
  {
   "cell_type": "code",
   "execution_count": 17,
   "id": "06948305",
   "metadata": {},
   "outputs": [
    {
     "name": "stdout",
     "output_type": "stream",
     "text": [
      "All Rows for finish_gun match the total finish_gun_sec times\n"
     ]
    }
   ],
   "source": [
    "for n in list(range(0, df.shape[0])):\n",
    "    if time_string_to_seconds(df['finish_gun'][n]) != df['finish_gun_sec'][n]:\n",
    "        empty_list.append(n)\n",
    "        \n",
    "if len(empty_list) == 0:\n",
    "    print('All Rows for finish_gun match the total finish_gun_sec times')\n",
    "else:\n",
    "    print(n)"
   ]
  },
  {
   "cell_type": "markdown",
   "id": "faebe377",
   "metadata": {},
   "source": [
    "With this, we have confirmed that the `finish_net`, `finish_net_sec` and `finish_net_minutes` all have the same data\n",
    "\n",
    "In addition, we have confirmed the the `finish_gun` and the `finish_gun_sec` have the same data as well.\n",
    "\n",
    "Comparing the times in raw seconds seems to be the best course as it will be the easiest to manage going forward.  I would like to compare the differences between `finish_net_sec` and `finish_gun_sec`"
   ]
  },
  {
   "cell_type": "code",
   "execution_count": 18,
   "id": "c3f132d8",
   "metadata": {},
   "outputs": [
    {
     "data": {
      "image/png": "[encoded data removed]",
      "text/plain": [
       "<Figure size 640x480 with 1 Axes>"
      ]
     },
     "metadata": {},
     "output_type": "display_data"
    }
   ],
   "source": [
    "(df['finish_net_sec'] - df['finish_gun_sec']).plot(kind = 'hist', bins = 200)\n",
    "plt.show()"
   ]
  },
  {
   "cell_type": "markdown",
   "id": "232d7f92",
   "metadata": {},
   "source": [
    "As an overview there does seem to be a significant difference between the finish times for participants based on when the gun went off and their net time from when they crossed the starting gate.  For some runners, they crossed the starting gate as much as 600 seconds, or 10 minutes, AFTER the starting gun went off.\n",
    "\n",
    "So now what matters is which time is used for the runner's placing.  If it's based on `finish_net_sec`, then the analysis will be straight forward from there, if it's based on `finish_gun_sec`, then the amount of time it took for the runner to get to the starting gate could be a determining factor for placing.\n",
    "\n",
    "So let's see which column determines the runner's placing."
   ]
  },
  {
   "cell_type": "code",
   "execution_count": 19,
   "id": "e1e473a2",
   "metadata": {},
   "outputs": [],
   "source": [
    "df['gun_rank'] = df['finish_gun_sec'].rank(method = 'min')\n",
    "df['net_rank'] = df['finish_net_sec'].rank(method = 'min')"
   ]
  },
  {
   "cell_type": "code",
   "execution_count": 20,
   "id": "6430a517",
   "metadata": {},
   "outputs": [
    {
     "data": {
      "text/html": [
       "<div>\n",
       "<style scoped>\n",
       "    .dataframe tbody tr th:only-of-type {\n",
       "        vertical-align: middle;\n",
       "    }\n",
       "\n",
       "    .dataframe tbody tr th {\n",
       "        vertical-align: top;\n",
       "    }\n",
       "\n",
       "    .dataframe thead th {\n",
       "        text-align: right;\n",
       "    }\n",
       "</style>\n",
       "<table border=\"1\" class=\"dataframe\">\n",
       "  <thead>\n",
       "    <tr style=\"text-align: right;\">\n",
       "      <th></th>\n",
       "      <th>age_group</th>\n",
       "      <th>place_overall</th>\n",
       "      <th>place_gender</th>\n",
       "      <th>place_division</th>\n",
       "      <th>name</th>\n",
       "      <th>team</th>\n",
       "      <th>bib_number</th>\n",
       "      <th>half_time</th>\n",
       "      <th>finish_net</th>\n",
       "      <th>finish_gun</th>\n",
       "      <th>gender</th>\n",
       "      <th>half_time_sec</th>\n",
       "      <th>finish_net_sec</th>\n",
       "      <th>finish_gun_sec</th>\n",
       "      <th>finish_net_minutes</th>\n",
       "      <th>on_team</th>\n",
       "      <th>gun_rank</th>\n",
       "      <th>net_rank</th>\n",
       "    </tr>\n",
       "  </thead>\n",
       "  <tbody>\n",
       "    <tr>\n",
       "      <th>3521</th>\n",
       "      <td>18-39</td>\n",
       "      <td>7445</td>\n",
       "      <td>6375</td>\n",
       "      <td>3522</td>\n",
       "      <td>Chester, Cameron</td>\n",
       "      <td>Team–</td>\n",
       "      <td>1394</td>\n",
       "      <td>1H 28M 15S</td>\n",
       "      <td>3H 14M 1S</td>\n",
       "      <td>3H 14M 33S</td>\n",
       "      <td>M</td>\n",
       "      <td>5295.0</td>\n",
       "      <td>11641</td>\n",
       "      <td>11673</td>\n",
       "      <td>194.016667</td>\n",
       "      <td>0</td>\n",
       "      <td>6990.0</td>\n",
       "      <td>7439.0</td>\n",
       "    </tr>\n",
       "    <tr>\n",
       "      <th>10266</th>\n",
       "      <td>50-54</td>\n",
       "      <td>7446</td>\n",
       "      <td>6376</td>\n",
       "      <td>490</td>\n",
       "      <td>Wingo, Jason</td>\n",
       "      <td>Team–</td>\n",
       "      <td>15402</td>\n",
       "      <td>1H 36M 42S</td>\n",
       "      <td>3H 14M 1S</td>\n",
       "      <td>3H 19M 47S</td>\n",
       "      <td>M</td>\n",
       "      <td>5802.0</td>\n",
       "      <td>11641</td>\n",
       "      <td>11987</td>\n",
       "      <td>194.016667</td>\n",
       "      <td>0</td>\n",
       "      <td>8422.0</td>\n",
       "      <td>7439.0</td>\n",
       "    </tr>\n",
       "    <tr>\n",
       "      <th>6580</th>\n",
       "      <td>40-44</td>\n",
       "      <td>7447</td>\n",
       "      <td>6377</td>\n",
       "      <td>1297</td>\n",
       "      <td>Willenberg, Lukasz</td>\n",
       "      <td>Team–</td>\n",
       "      <td>4749</td>\n",
       "      <td>1H 23M 58S</td>\n",
       "      <td>3H 14M 1S</td>\n",
       "      <td>3H 16M 12S</td>\n",
       "      <td>M</td>\n",
       "      <td>5038.0</td>\n",
       "      <td>11641</td>\n",
       "      <td>11772</td>\n",
       "      <td>194.016667</td>\n",
       "      <td>0</td>\n",
       "      <td>7422.0</td>\n",
       "      <td>7439.0</td>\n",
       "    </tr>\n",
       "    <tr>\n",
       "      <th>24964</th>\n",
       "      <td>55-59</td>\n",
       "      <td>7448</td>\n",
       "      <td>1065</td>\n",
       "      <td>4</td>\n",
       "      <td>Jiang, Sunny</td>\n",
       "      <td>Team–</td>\n",
       "      <td>8383</td>\n",
       "      <td>1H 34M 43S</td>\n",
       "      <td>3H 14M 1S</td>\n",
       "      <td>3H 15M 36S</td>\n",
       "      <td>W</td>\n",
       "      <td>5683.0</td>\n",
       "      <td>11641</td>\n",
       "      <td>11736</td>\n",
       "      <td>194.016667</td>\n",
       "      <td>0</td>\n",
       "      <td>7264.0</td>\n",
       "      <td>7439.0</td>\n",
       "    </tr>\n",
       "    <tr>\n",
       "      <th>6581</th>\n",
       "      <td>40-44</td>\n",
       "      <td>7449</td>\n",
       "      <td>6378</td>\n",
       "      <td>1298</td>\n",
       "      <td>Porto, Diego</td>\n",
       "      <td>Team–</td>\n",
       "      <td>5901</td>\n",
       "      <td>1H 32M 26S</td>\n",
       "      <td>3H 14M 1S</td>\n",
       "      <td>3H 16M 24S</td>\n",
       "      <td>M</td>\n",
       "      <td>5546.0</td>\n",
       "      <td>11641</td>\n",
       "      <td>11784</td>\n",
       "      <td>194.016667</td>\n",
       "      <td>0</td>\n",
       "      <td>7480.0</td>\n",
       "      <td>7439.0</td>\n",
       "    </tr>\n",
       "    <tr>\n",
       "      <th>3522</th>\n",
       "      <td>18-39</td>\n",
       "      <td>7450</td>\n",
       "      <td>6379</td>\n",
       "      <td>3523</td>\n",
       "      <td>Constant, Timothy</td>\n",
       "      <td>Team–</td>\n",
       "      <td>2738</td>\n",
       "      <td>1H 29M 30S</td>\n",
       "      <td>3H 14M 1S</td>\n",
       "      <td>3H 14M 54S</td>\n",
       "      <td>M</td>\n",
       "      <td>5370.0</td>\n",
       "      <td>11641</td>\n",
       "      <td>11694</td>\n",
       "      <td>194.016667</td>\n",
       "      <td>0</td>\n",
       "      <td>7078.0</td>\n",
       "      <td>7439.0</td>\n",
       "    </tr>\n",
       "    <tr>\n",
       "      <th>11974</th>\n",
       "      <td>55-59</td>\n",
       "      <td>7451</td>\n",
       "      <td>6380</td>\n",
       "      <td>146</td>\n",
       "      <td>Chavez, Rigo</td>\n",
       "      <td>Team–</td>\n",
       "      <td>12911</td>\n",
       "      <td>1H 32M 43S</td>\n",
       "      <td>3H 14M 1S</td>\n",
       "      <td>3H 16M 31S</td>\n",
       "      <td>M</td>\n",
       "      <td>5563.0</td>\n",
       "      <td>11641</td>\n",
       "      <td>11791</td>\n",
       "      <td>194.016667</td>\n",
       "      <td>0</td>\n",
       "      <td>7510.0</td>\n",
       "      <td>7439.0</td>\n",
       "    </tr>\n",
       "    <tr>\n",
       "      <th>6582</th>\n",
       "      <td>40-44</td>\n",
       "      <td>7452</td>\n",
       "      <td>6381</td>\n",
       "      <td>1299</td>\n",
       "      <td>Wise, Steven</td>\n",
       "      <td>Team–</td>\n",
       "      <td>10059</td>\n",
       "      <td>1H 35M 44S</td>\n",
       "      <td>3H 14M 1S</td>\n",
       "      <td>3H 15M 11S</td>\n",
       "      <td>M</td>\n",
       "      <td>5744.0</td>\n",
       "      <td>11641</td>\n",
       "      <td>11711</td>\n",
       "      <td>194.016667</td>\n",
       "      <td>0</td>\n",
       "      <td>7156.0</td>\n",
       "      <td>7439.0</td>\n",
       "    </tr>\n",
       "    <tr>\n",
       "      <th>3523</th>\n",
       "      <td>18-39</td>\n",
       "      <td>7453</td>\n",
       "      <td>6382</td>\n",
       "      <td>3524</td>\n",
       "      <td>O'Connell, Gabriel</td>\n",
       "      <td>Team–</td>\n",
       "      <td>4331</td>\n",
       "      <td>1H 32M 37S</td>\n",
       "      <td>3H 14M 1S</td>\n",
       "      <td>3H 15M 40S</td>\n",
       "      <td>M</td>\n",
       "      <td>5557.0</td>\n",
       "      <td>11641</td>\n",
       "      <td>11740</td>\n",
       "      <td>194.016667</td>\n",
       "      <td>0</td>\n",
       "      <td>7281.0</td>\n",
       "      <td>7439.0</td>\n",
       "    </tr>\n",
       "    <tr>\n",
       "      <th>8394</th>\n",
       "      <td>45-49</td>\n",
       "      <td>7454</td>\n",
       "      <td>6383</td>\n",
       "      <td>870</td>\n",
       "      <td>Sandberg, Jonathan</td>\n",
       "      <td>Team–</td>\n",
       "      <td>13037</td>\n",
       "      <td>1H 37M 51S</td>\n",
       "      <td>3H 14M 1S</td>\n",
       "      <td>3H 22M 44S</td>\n",
       "      <td>M</td>\n",
       "      <td>5871.0</td>\n",
       "      <td>11641</td>\n",
       "      <td>12164</td>\n",
       "      <td>194.016667</td>\n",
       "      <td>0</td>\n",
       "      <td>9204.0</td>\n",
       "      <td>7439.0</td>\n",
       "    </tr>\n",
       "    <tr>\n",
       "      <th>10267</th>\n",
       "      <td>50-54</td>\n",
       "      <td>7455</td>\n",
       "      <td>6384</td>\n",
       "      <td>491</td>\n",
       "      <td>Dunne, Terence</td>\n",
       "      <td>Team–</td>\n",
       "      <td>15394</td>\n",
       "      <td>1H 36M 52S</td>\n",
       "      <td>3H 14M 1S</td>\n",
       "      <td>3H 19M 48S</td>\n",
       "      <td>M</td>\n",
       "      <td>5812.0</td>\n",
       "      <td>11641</td>\n",
       "      <td>11988</td>\n",
       "      <td>194.016667</td>\n",
       "      <td>0</td>\n",
       "      <td>8428.0</td>\n",
       "      <td>7439.0</td>\n",
       "    </tr>\n",
       "    <tr>\n",
       "      <th>10268</th>\n",
       "      <td>50-54</td>\n",
       "      <td>7456</td>\n",
       "      <td>6385</td>\n",
       "      <td>492</td>\n",
       "      <td>Miranda Diaz, Jose Salvador</td>\n",
       "      <td>Team–</td>\n",
       "      <td>6503</td>\n",
       "      <td>1H 33M 35S</td>\n",
       "      <td>3H 14M 1S</td>\n",
       "      <td>3H 18M 7S</td>\n",
       "      <td>M</td>\n",
       "      <td>5615.0</td>\n",
       "      <td>11641</td>\n",
       "      <td>11887</td>\n",
       "      <td>194.016667</td>\n",
       "      <td>0</td>\n",
       "      <td>7966.0</td>\n",
       "      <td>7439.0</td>\n",
       "    </tr>\n",
       "    <tr>\n",
       "      <th>8395</th>\n",
       "      <td>45-49</td>\n",
       "      <td>7457</td>\n",
       "      <td>6386</td>\n",
       "      <td>871</td>\n",
       "      <td>Septien, Luis</td>\n",
       "      <td>Team–</td>\n",
       "      <td>7419</td>\n",
       "      <td>1H 33M 35S</td>\n",
       "      <td>3H 14M 1S</td>\n",
       "      <td>3H 18M 7S</td>\n",
       "      <td>M</td>\n",
       "      <td>5615.0</td>\n",
       "      <td>11641</td>\n",
       "      <td>11887</td>\n",
       "      <td>194.016667</td>\n",
       "      <td>0</td>\n",
       "      <td>7966.0</td>\n",
       "      <td>7439.0</td>\n",
       "    </tr>\n",
       "    <tr>\n",
       "      <th>3524</th>\n",
       "      <td>18-39</td>\n",
       "      <td>7458</td>\n",
       "      <td>6387</td>\n",
       "      <td>3525</td>\n",
       "      <td>Solis, Victor</td>\n",
       "      <td>Team–</td>\n",
       "      <td>1585</td>\n",
       "      <td>1H 33M 35S</td>\n",
       "      <td>3H 14M 1S</td>\n",
       "      <td>3H 18M 7S</td>\n",
       "      <td>M</td>\n",
       "      <td>5615.0</td>\n",
       "      <td>11641</td>\n",
       "      <td>11887</td>\n",
       "      <td>194.016667</td>\n",
       "      <td>0</td>\n",
       "      <td>7966.0</td>\n",
       "      <td>7439.0</td>\n",
       "    </tr>\n",
       "    <tr>\n",
       "      <th>6583</th>\n",
       "      <td>40-44</td>\n",
       "      <td>7459</td>\n",
       "      <td>6388</td>\n",
       "      <td>1300</td>\n",
       "      <td>Sun, Peng</td>\n",
       "      <td>TeamBEN Running Club</td>\n",
       "      <td>8609</td>\n",
       "      <td>1H 32M 35S</td>\n",
       "      <td>3H 14M 1S</td>\n",
       "      <td>3H 14M 26S</td>\n",
       "      <td>M</td>\n",
       "      <td>5555.0</td>\n",
       "      <td>11641</td>\n",
       "      <td>11666</td>\n",
       "      <td>194.016667</td>\n",
       "      <td>1</td>\n",
       "      <td>6954.0</td>\n",
       "      <td>7439.0</td>\n",
       "    </tr>\n",
       "    <tr>\n",
       "      <th>6584</th>\n",
       "      <td>40-44</td>\n",
       "      <td>7460</td>\n",
       "      <td>6389</td>\n",
       "      <td>1301</td>\n",
       "      <td>Eissens, Mark</td>\n",
       "      <td>Team–</td>\n",
       "      <td>2139</td>\n",
       "      <td>1H 31M 6S</td>\n",
       "      <td>3H 14M 1S</td>\n",
       "      <td>3H 14M 52S</td>\n",
       "      <td>M</td>\n",
       "      <td>5466.0</td>\n",
       "      <td>11641</td>\n",
       "      <td>11692</td>\n",
       "      <td>194.016667</td>\n",
       "      <td>0</td>\n",
       "      <td>7071.0</td>\n",
       "      <td>7439.0</td>\n",
       "    </tr>\n",
       "  </tbody>\n",
       "</table>\n",
       "</div>"
      ],
      "text/plain": [
       "      age_group  place_overall  place_gender  place_division  \\\n",
       "3521      18-39           7445          6375            3522   \n",
       "10266     50-54           7446          6376             490   \n",
       "6580      40-44           7447          6377            1297   \n",
       "24964     55-59           7448          1065               4   \n",
       "6581      40-44           7449          6378            1298   \n",
       "3522      18-39           7450          6379            3523   \n",
       "11974     55-59           7451          6380             146   \n",
       "6582      40-44           7452          6381            1299   \n",
       "3523      18-39           7453          6382            3524   \n",
       "8394      45-49           7454          6383             870   \n",
       "10267     50-54           7455          6384             491   \n",
       "10268     50-54           7456          6385             492   \n",
       "8395      45-49           7457          6386             871   \n",
       "3524      18-39           7458          6387            3525   \n",
       "6583      40-44           7459          6388            1300   \n",
       "6584      40-44           7460          6389            1301   \n",
       "\n",
       "                              name                  team bib_number  \\\n",
       "3521              Chester, Cameron                 Team–       1394   \n",
       "10266                 Wingo, Jason                 Team–      15402   \n",
       "6580            Willenberg, Lukasz                 Team–       4749   \n",
       "24964                 Jiang, Sunny                 Team–       8383   \n",
       "6581                  Porto, Diego                 Team–       5901   \n",
       "3522             Constant, Timothy                 Team–       2738   \n",
       "11974                 Chavez, Rigo                 Team–      12911   \n",
       "6582                  Wise, Steven                 Team–      10059   \n",
       "3523            O'Connell, Gabriel                 Team–       4331   \n",
       "8394            Sandberg, Jonathan                 Team–      13037   \n",
       "10267               Dunne, Terence                 Team–      15394   \n",
       "10268  Miranda Diaz, Jose Salvador                 Team–       6503   \n",
       "8395                 Septien, Luis                 Team–       7419   \n",
       "3524                 Solis, Victor                 Team–       1585   \n",
       "6583                     Sun, Peng  TeamBEN Running Club       8609   \n",
       "6584                 Eissens, Mark                 Team–       2139   \n",
       "\n",
       "        half_time finish_net  finish_gun gender  half_time_sec  \\\n",
       "3521   1H 28M 15S  3H 14M 1S  3H 14M 33S      M         5295.0   \n",
       "10266  1H 36M 42S  3H 14M 1S  3H 19M 47S      M         5802.0   \n",
       "6580   1H 23M 58S  3H 14M 1S  3H 16M 12S      M         5038.0   \n",
       "24964  1H 34M 43S  3H 14M 1S  3H 15M 36S      W         5683.0   \n",
       "6581   1H 32M 26S  3H 14M 1S  3H 16M 24S      M         5546.0   \n",
       "3522   1H 29M 30S  3H 14M 1S  3H 14M 54S      M         5370.0   \n",
       "11974  1H 32M 43S  3H 14M 1S  3H 16M 31S      M         5563.0   \n",
       "6582   1H 35M 44S  3H 14M 1S  3H 15M 11S      M         5744.0   \n",
       "3523   1H 32M 37S  3H 14M 1S  3H 15M 40S      M         5557.0   \n",
       "8394   1H 37M 51S  3H 14M 1S  3H 22M 44S      M         5871.0   \n",
       "10267  1H 36M 52S  3H 14M 1S  3H 19M 48S      M         5812.0   \n",
       "10268  1H 33M 35S  3H 14M 1S   3H 18M 7S      M         5615.0   \n",
       "8395   1H 33M 35S  3H 14M 1S   3H 18M 7S      M         5615.0   \n",
       "3524   1H 33M 35S  3H 14M 1S   3H 18M 7S      M         5615.0   \n",
       "6583   1H 32M 35S  3H 14M 1S  3H 14M 26S      M         5555.0   \n",
       "6584    1H 31M 6S  3H 14M 1S  3H 14M 52S      M         5466.0   \n",
       "\n",
       "       finish_net_sec  finish_gun_sec  finish_net_minutes  on_team  gun_rank  \\\n",
       "3521            11641           11673          194.016667        0    6990.0   \n",
       "10266           11641           11987          194.016667        0    8422.0   \n",
       "6580            11641           11772          194.016667        0    7422.0   \n",
       "24964           11641           11736          194.016667        0    7264.0   \n",
       "6581            11641           11784          194.016667        0    7480.0   \n",
       "3522            11641           11694          194.016667        0    7078.0   \n",
       "11974           11641           11791          194.016667        0    7510.0   \n",
       "6582            11641           11711          194.016667        0    7156.0   \n",
       "3523            11641           11740          194.016667        0    7281.0   \n",
       "8394            11641           12164          194.016667        0    9204.0   \n",
       "10267           11641           11988          194.016667        0    8428.0   \n",
       "10268           11641           11887          194.016667        0    7966.0   \n",
       "8395            11641           11887          194.016667        0    7966.0   \n",
       "3524            11641           11887          194.016667        0    7966.0   \n",
       "6583            11641           11666          194.016667        1    6954.0   \n",
       "6584            11641           11692          194.016667        0    7071.0   \n",
       "\n",
       "       net_rank  \n",
       "3521     7439.0  \n",
       "10266    7439.0  \n",
       "6580     7439.0  \n",
       "24964    7439.0  \n",
       "6581     7439.0  \n",
       "3522     7439.0  \n",
       "11974    7439.0  \n",
       "6582     7439.0  \n",
       "3523     7439.0  \n",
       "8394     7439.0  \n",
       "10267    7439.0  \n",
       "10268    7439.0  \n",
       "8395     7439.0  \n",
       "3524     7439.0  \n",
       "6583     7439.0  \n",
       "6584     7439.0  "
      ]
     },
     "execution_count": 20,
     "metadata": {},
     "output_type": "execute_result"
    }
   ],
   "source": [
    "df[df['finish_net_sec'] == df['finish_net_sec'].value_counts().index[0]].sort_values('place_overall')"
   ]
  },
  {
   "cell_type": "code",
   "execution_count": 21,
   "id": "b0f98031",
   "metadata": {},
   "outputs": [
    {
     "data": {
      "text/html": [
       "<div>\n",
       "<style scoped>\n",
       "    .dataframe tbody tr th:only-of-type {\n",
       "        vertical-align: middle;\n",
       "    }\n",
       "\n",
       "    .dataframe tbody tr th {\n",
       "        vertical-align: top;\n",
       "    }\n",
       "\n",
       "    .dataframe thead th {\n",
       "        text-align: right;\n",
       "    }\n",
       "</style>\n",
       "<table border=\"1\" class=\"dataframe\">\n",
       "  <thead>\n",
       "    <tr style=\"text-align: right;\">\n",
       "      <th></th>\n",
       "      <th>age_group</th>\n",
       "      <th>place_overall</th>\n",
       "      <th>place_gender</th>\n",
       "      <th>place_division</th>\n",
       "      <th>name</th>\n",
       "      <th>team</th>\n",
       "      <th>bib_number</th>\n",
       "      <th>half_time</th>\n",
       "      <th>finish_net</th>\n",
       "      <th>finish_gun</th>\n",
       "      <th>gender</th>\n",
       "      <th>half_time_sec</th>\n",
       "      <th>finish_net_sec</th>\n",
       "      <th>finish_gun_sec</th>\n",
       "      <th>finish_net_minutes</th>\n",
       "      <th>on_team</th>\n",
       "      <th>gun_rank</th>\n",
       "      <th>net_rank</th>\n",
       "    </tr>\n",
       "  </thead>\n",
       "  <tbody>\n",
       "    <tr>\n",
       "      <th>2263</th>\n",
       "      <td>18-39</td>\n",
       "      <td>3250</td>\n",
       "      <td>3074</td>\n",
       "      <td>2264</td>\n",
       "      <td>Wilkes, Ross</td>\n",
       "      <td>Team–</td>\n",
       "      <td>5668</td>\n",
       "      <td>1H 28M 21S</td>\n",
       "      <td>2H 57M 13S</td>\n",
       "      <td>2H 59M 46S</td>\n",
       "      <td>M</td>\n",
       "      <td>5301.0</td>\n",
       "      <td>10633</td>\n",
       "      <td>10786</td>\n",
       "      <td>177.216667</td>\n",
       "      <td>0</td>\n",
       "      <td>3465.0</td>\n",
       "      <td>3246.0</td>\n",
       "    </tr>\n",
       "    <tr>\n",
       "      <th>2264</th>\n",
       "      <td>18-39</td>\n",
       "      <td>3251</td>\n",
       "      <td>3075</td>\n",
       "      <td>2265</td>\n",
       "      <td>Turnbull, Alex</td>\n",
       "      <td>Team–</td>\n",
       "      <td>5739</td>\n",
       "      <td>1H 27M 5S</td>\n",
       "      <td>2H 57M 13S</td>\n",
       "      <td>2H 59M 46S</td>\n",
       "      <td>M</td>\n",
       "      <td>5225.0</td>\n",
       "      <td>10633</td>\n",
       "      <td>10786</td>\n",
       "      <td>177.216667</td>\n",
       "      <td>0</td>\n",
       "      <td>3465.0</td>\n",
       "      <td>3246.0</td>\n",
       "    </tr>\n",
       "    <tr>\n",
       "      <th>15318</th>\n",
       "      <td>18-39</td>\n",
       "      <td>3253</td>\n",
       "      <td>174</td>\n",
       "      <td>144</td>\n",
       "      <td>Hunter, Kate</td>\n",
       "      <td>Team–</td>\n",
       "      <td>5295</td>\n",
       "      <td>1H 27M 34S</td>\n",
       "      <td>2H 57M 13S</td>\n",
       "      <td>2H 59M 46S</td>\n",
       "      <td>W</td>\n",
       "      <td>5254.0</td>\n",
       "      <td>10633</td>\n",
       "      <td>10786</td>\n",
       "      <td>177.216667</td>\n",
       "      <td>0</td>\n",
       "      <td>3465.0</td>\n",
       "      <td>3246.0</td>\n",
       "    </tr>\n",
       "    <tr>\n",
       "      <th>2266</th>\n",
       "      <td>18-39</td>\n",
       "      <td>3255</td>\n",
       "      <td>3078</td>\n",
       "      <td>2267</td>\n",
       "      <td>Prokop, Ingmar</td>\n",
       "      <td>Team–</td>\n",
       "      <td>5212</td>\n",
       "      <td>1H 27M 41S</td>\n",
       "      <td>2H 57M 15S</td>\n",
       "      <td>2H 59M 46S</td>\n",
       "      <td>M</td>\n",
       "      <td>5261.0</td>\n",
       "      <td>10635</td>\n",
       "      <td>10786</td>\n",
       "      <td>177.250000</td>\n",
       "      <td>0</td>\n",
       "      <td>3465.0</td>\n",
       "      <td>3252.0</td>\n",
       "    </tr>\n",
       "    <tr>\n",
       "      <th>7765</th>\n",
       "      <td>45-49</td>\n",
       "      <td>3449</td>\n",
       "      <td>3250</td>\n",
       "      <td>241</td>\n",
       "      <td>Prendergast, Brian</td>\n",
       "      <td>TeamShore A.C.</td>\n",
       "      <td>4084</td>\n",
       "      <td>1H 28M 45S</td>\n",
       "      <td>2H 57M 53S</td>\n",
       "      <td>2H 59M 46S</td>\n",
       "      <td>M</td>\n",
       "      <td>5325.0</td>\n",
       "      <td>10673</td>\n",
       "      <td>10786</td>\n",
       "      <td>177.883333</td>\n",
       "      <td>1</td>\n",
       "      <td>3465.0</td>\n",
       "      <td>3446.0</td>\n",
       "    </tr>\n",
       "    <tr>\n",
       "      <th>7772</th>\n",
       "      <td>45-49</td>\n",
       "      <td>3515</td>\n",
       "      <td>3310</td>\n",
       "      <td>248</td>\n",
       "      <td>Yokoyama, Toshio</td>\n",
       "      <td>Team–</td>\n",
       "      <td>11582</td>\n",
       "      <td>1H 26M 12S</td>\n",
       "      <td>2H 58M 5S</td>\n",
       "      <td>2H 59M 46S</td>\n",
       "      <td>M</td>\n",
       "      <td>5172.0</td>\n",
       "      <td>10685</td>\n",
       "      <td>10786</td>\n",
       "      <td>178.083333</td>\n",
       "      <td>0</td>\n",
       "      <td>3465.0</td>\n",
       "      <td>3510.0</td>\n",
       "    </tr>\n",
       "    <tr>\n",
       "      <th>2400</th>\n",
       "      <td>18-39</td>\n",
       "      <td>3533</td>\n",
       "      <td>3327</td>\n",
       "      <td>2401</td>\n",
       "      <td>Garcia-Rada Puccio, Rodrigo</td>\n",
       "      <td>Team–</td>\n",
       "      <td>3603</td>\n",
       "      <td>1H 29M 22S</td>\n",
       "      <td>2H 58M 8S</td>\n",
       "      <td>2H 59M 46S</td>\n",
       "      <td>M</td>\n",
       "      <td>5362.0</td>\n",
       "      <td>10688</td>\n",
       "      <td>10786</td>\n",
       "      <td>178.133333</td>\n",
       "      <td>0</td>\n",
       "      <td>3465.0</td>\n",
       "      <td>3526.0</td>\n",
       "    </tr>\n",
       "    <tr>\n",
       "      <th>15343</th>\n",
       "      <td>18-39</td>\n",
       "      <td>3534</td>\n",
       "      <td>204</td>\n",
       "      <td>169</td>\n",
       "      <td>Ward, Marissa</td>\n",
       "      <td>Team–</td>\n",
       "      <td>4115</td>\n",
       "      <td>1H 27M 33S</td>\n",
       "      <td>2H 58M 8S</td>\n",
       "      <td>2H 59M 46S</td>\n",
       "      <td>W</td>\n",
       "      <td>5253.0</td>\n",
       "      <td>10688</td>\n",
       "      <td>10786</td>\n",
       "      <td>178.133333</td>\n",
       "      <td>0</td>\n",
       "      <td>3465.0</td>\n",
       "      <td>3526.0</td>\n",
       "    </tr>\n",
       "    <tr>\n",
       "      <th>5831</th>\n",
       "      <td>40-44</td>\n",
       "      <td>3600</td>\n",
       "      <td>3386</td>\n",
       "      <td>548</td>\n",
       "      <td>Williamson, Taylor</td>\n",
       "      <td>Team–</td>\n",
       "      <td>2588</td>\n",
       "      <td>1H 27M 36S</td>\n",
       "      <td>2H 58M 21S</td>\n",
       "      <td>2H 59M 46S</td>\n",
       "      <td>M</td>\n",
       "      <td>5256.0</td>\n",
       "      <td>10701</td>\n",
       "      <td>10786</td>\n",
       "      <td>178.350000</td>\n",
       "      <td>0</td>\n",
       "      <td>3465.0</td>\n",
       "      <td>3596.0</td>\n",
       "    </tr>\n",
       "    <tr>\n",
       "      <th>5849</th>\n",
       "      <td>40-44</td>\n",
       "      <td>3662</td>\n",
       "      <td>3443</td>\n",
       "      <td>566</td>\n",
       "      <td>von Escher, Markus</td>\n",
       "      <td>Team–</td>\n",
       "      <td>3005</td>\n",
       "      <td>1H 25M 20S</td>\n",
       "      <td>2H 58M 30S</td>\n",
       "      <td>2H 59M 46S</td>\n",
       "      <td>M</td>\n",
       "      <td>5120.0</td>\n",
       "      <td>10710</td>\n",
       "      <td>10786</td>\n",
       "      <td>178.500000</td>\n",
       "      <td>0</td>\n",
       "      <td>3465.0</td>\n",
       "      <td>3651.0</td>\n",
       "    </tr>\n",
       "    <tr>\n",
       "      <th>2472</th>\n",
       "      <td>18-39</td>\n",
       "      <td>3697</td>\n",
       "      <td>3472</td>\n",
       "      <td>2473</td>\n",
       "      <td>Shavalier, Jake</td>\n",
       "      <td>Team–</td>\n",
       "      <td>3696</td>\n",
       "      <td>1H 26M 48S</td>\n",
       "      <td>2H 58M 36S</td>\n",
       "      <td>2H 59M 46S</td>\n",
       "      <td>M</td>\n",
       "      <td>5208.0</td>\n",
       "      <td>10716</td>\n",
       "      <td>10786</td>\n",
       "      <td>178.600000</td>\n",
       "      <td>0</td>\n",
       "      <td>3465.0</td>\n",
       "      <td>3692.0</td>\n",
       "    </tr>\n",
       "    <tr>\n",
       "      <th>7800</th>\n",
       "      <td>45-49</td>\n",
       "      <td>3777</td>\n",
       "      <td>3545</td>\n",
       "      <td>276</td>\n",
       "      <td>Granato, Kevin</td>\n",
       "      <td>Team–</td>\n",
       "      <td>2406</td>\n",
       "      <td>1H 30M 8S</td>\n",
       "      <td>2H 58M 47S</td>\n",
       "      <td>2H 59M 46S</td>\n",
       "      <td>M</td>\n",
       "      <td>5408.0</td>\n",
       "      <td>10727</td>\n",
       "      <td>10786</td>\n",
       "      <td>178.783333</td>\n",
       "      <td>0</td>\n",
       "      <td>3465.0</td>\n",
       "      <td>3767.0</td>\n",
       "    </tr>\n",
       "    <tr>\n",
       "      <th>5934</th>\n",
       "      <td>40-44</td>\n",
       "      <td>4037</td>\n",
       "      <td>3777</td>\n",
       "      <td>651</td>\n",
       "      <td>Post, Jeremy</td>\n",
       "      <td>Team–</td>\n",
       "      <td>8677</td>\n",
       "      <td>1H 28M 52S</td>\n",
       "      <td>2H 59M 30S</td>\n",
       "      <td>2H 59M 46S</td>\n",
       "      <td>M</td>\n",
       "      <td>5332.0</td>\n",
       "      <td>10770</td>\n",
       "      <td>10786</td>\n",
       "      <td>179.500000</td>\n",
       "      <td>0</td>\n",
       "      <td>3465.0</td>\n",
       "      <td>4029.0</td>\n",
       "    </tr>\n",
       "    <tr>\n",
       "      <th>5949</th>\n",
       "      <td>40-44</td>\n",
       "      <td>4109</td>\n",
       "      <td>3844</td>\n",
       "      <td>666</td>\n",
       "      <td>Gerber, Michael</td>\n",
       "      <td>Team–</td>\n",
       "      <td>8103</td>\n",
       "      <td>1H 28M 50S</td>\n",
       "      <td>2H 59M 42S</td>\n",
       "      <td>2H 59M 46S</td>\n",
       "      <td>M</td>\n",
       "      <td>5330.0</td>\n",
       "      <td>10782</td>\n",
       "      <td>10786</td>\n",
       "      <td>179.700000</td>\n",
       "      <td>0</td>\n",
       "      <td>3465.0</td>\n",
       "      <td>4105.0</td>\n",
       "    </tr>\n",
       "  </tbody>\n",
       "</table>\n",
       "</div>"
      ],
      "text/plain": [
       "      age_group  place_overall  place_gender  place_division  \\\n",
       "2263      18-39           3250          3074            2264   \n",
       "2264      18-39           3251          3075            2265   \n",
       "15318     18-39           3253           174             144   \n",
       "2266      18-39           3255          3078            2267   \n",
       "7765      45-49           3449          3250             241   \n",
       "7772      45-49           3515          3310             248   \n",
       "2400      18-39           3533          3327            2401   \n",
       "15343     18-39           3534           204             169   \n",
       "5831      40-44           3600          3386             548   \n",
       "5849      40-44           3662          3443             566   \n",
       "2472      18-39           3697          3472            2473   \n",
       "7800      45-49           3777          3545             276   \n",
       "5934      40-44           4037          3777             651   \n",
       "5949      40-44           4109          3844             666   \n",
       "\n",
       "                              name            team bib_number   half_time  \\\n",
       "2263                  Wilkes, Ross           Team–       5668  1H 28M 21S   \n",
       "2264                Turnbull, Alex           Team–       5739   1H 27M 5S   \n",
       "15318                 Hunter, Kate           Team–       5295  1H 27M 34S   \n",
       "2266                Prokop, Ingmar           Team–       5212  1H 27M 41S   \n",
       "7765            Prendergast, Brian  TeamShore A.C.       4084  1H 28M 45S   \n",
       "7772              Yokoyama, Toshio           Team–      11582  1H 26M 12S   \n",
       "2400   Garcia-Rada Puccio, Rodrigo           Team–       3603  1H 29M 22S   \n",
       "15343                Ward, Marissa           Team–       4115  1H 27M 33S   \n",
       "5831            Williamson, Taylor           Team–       2588  1H 27M 36S   \n",
       "5849            von Escher, Markus           Team–       3005  1H 25M 20S   \n",
       "2472               Shavalier, Jake           Team–       3696  1H 26M 48S   \n",
       "7800                Granato, Kevin           Team–       2406   1H 30M 8S   \n",
       "5934                  Post, Jeremy           Team–       8677  1H 28M 52S   \n",
       "5949               Gerber, Michael           Team–       8103  1H 28M 50S   \n",
       "\n",
       "       finish_net  finish_gun gender  half_time_sec  finish_net_sec  \\\n",
       "2263   2H 57M 13S  2H 59M 46S      M         5301.0           10633   \n",
       "2264   2H 57M 13S  2H 59M 46S      M         5225.0           10633   \n",
       "15318  2H 57M 13S  2H 59M 46S      W         5254.0           10633   \n",
       "2266   2H 57M 15S  2H 59M 46S      M         5261.0           10635   \n",
       "7765   2H 57M 53S  2H 59M 46S      M         5325.0           10673   \n",
       "7772    2H 58M 5S  2H 59M 46S      M         5172.0           10685   \n",
       "2400    2H 58M 8S  2H 59M 46S      M         5362.0           10688   \n",
       "15343   2H 58M 8S  2H 59M 46S      W         5253.0           10688   \n",
       "5831   2H 58M 21S  2H 59M 46S      M         5256.0           10701   \n",
       "5849   2H 58M 30S  2H 59M 46S      M         5120.0           10710   \n",
       "2472   2H 58M 36S  2H 59M 46S      M         5208.0           10716   \n",
       "7800   2H 58M 47S  2H 59M 46S      M         5408.0           10727   \n",
       "5934   2H 59M 30S  2H 59M 46S      M         5332.0           10770   \n",
       "5949   2H 59M 42S  2H 59M 46S      M         5330.0           10782   \n",
       "\n",
       "       finish_gun_sec  finish_net_minutes  on_team  gun_rank  net_rank  \n",
       "2263            10786          177.216667        0    3465.0    3246.0  \n",
       "2264            10786          177.216667        0    3465.0    3246.0  \n",
       "15318           10786          177.216667        0    3465.0    3246.0  \n",
       "2266            10786          177.250000        0    3465.0    3252.0  \n",
       "7765            10786          177.883333        1    3465.0    3446.0  \n",
       "7772            10786          178.083333        0    3465.0    3510.0  \n",
       "2400            10786          178.133333        0    3465.0    3526.0  \n",
       "15343           10786          178.133333        0    3465.0    3526.0  \n",
       "5831            10786          178.350000        0    3465.0    3596.0  \n",
       "5849            10786          178.500000        0    3465.0    3651.0  \n",
       "2472            10786          178.600000        0    3465.0    3692.0  \n",
       "7800            10786          178.783333        0    3465.0    3767.0  \n",
       "5934            10786          179.500000        0    3465.0    4029.0  \n",
       "5949            10786          179.700000        0    3465.0    4105.0  "
      ]
     },
     "execution_count": 21,
     "metadata": {},
     "output_type": "execute_result"
    }
   ],
   "source": [
    "df[df['finish_gun_sec'] == df['finish_gun_sec'].value_counts().index[0]].sort_values('place_overall')"
   ]
  },
  {
   "cell_type": "markdown",
   "id": "a3ec8176",
   "metadata": {},
   "source": [
    "Even though there are several ties throughout the dataset based on the finish times of the runners, there appears to be individual ranks for each runner.  It would seem that the placing of the runner is actually determined by a unit of time smaller than a second.  In races such as this, perhaps it was to the 0.01 of a second, or perhaps even a photo finish.  Either way, comparing the ranking of the finish times to `place_overall` is not effective as the data does not include how `place_overall` was precisely determined.\n",
    "\n",
    "Instead, I took some common finish times for both `finish_net_sec` and `finish_gun_sec` and compared the rankings of those that finished with the exact same time.  Comparing these, it is clear that `finish_net_sec` was the determining time for a runner's `place_overall`.  Therefore `'finish_net_sec` is the best statistic to examine for finishing times."
   ]
  },
  {
   "cell_type": "markdown",
   "id": "57625327",
   "metadata": {},
   "source": [
    "### `finish_net_sec` EDA"
   ]
  },
  {
   "cell_type": "code",
   "execution_count": 22,
   "id": "a0e90fc8",
   "metadata": {},
   "outputs": [
    {
     "data": {
      "image/png": "[encoded data removed]",
      "text/plain": [
       "<Figure size 640x480 with 1 Axes>"
      ]
     },
     "metadata": {},
     "output_type": "display_data"
    }
   ],
   "source": [
    "sns.histplot(x = df['finish_net_sec'], bins = 100)\n",
    "plt.axvline(10800, c = 'red', label = 'Qualifying Time for 30-34 Age Group', ls = '--')\n",
    "plt.axvline(12300, c = 'green', label = 'Qualifying Time for 50-54 Age Group', ls = '--')\n",
    "plt.axvline(17400, c = 'orange', label = 'Qualifying Time for 80+ Age Group', ls = '--')\n",
    "plt.legend(loc=0)\n",
    "plt.show()"
   ]
  },
  {
   "cell_type": "markdown",
   "id": "486074b1",
   "metadata": {},
   "source": [
    "The distribution of of finish times are somewhat normally distributed, but seem to be more reflected by the qualifying times required for each age group.  The highest peak coincides with the 30-34 Qualifying Time of 3 hours (or 10800 seconds).  The second peak coincides with the qualifying time for the 50-54 age group, but would likely include finishers of the 40-44 and 45-49 age groups that ran just a bit slower than their qualifying times."
   ]
  },
  {
   "cell_type": "code",
   "execution_count": 23,
   "id": "73c4aeb5",
   "metadata": {},
   "outputs": [
    {
     "data": {
      "image/png": "[encoded data removed]",
      "text/plain": [
       "<Figure size 400x400 with 1 Axes>"
      ]
     },
     "metadata": {},
     "output_type": "display_data"
    }
   ],
   "source": [
    "plt.figure(figsize = (4, 4))\n",
    "sns.boxplot(x = df['gender'], y = df['finish_net_sec'])\n",
    "plt.show()"
   ]
  },
  {
   "cell_type": "markdown",
   "id": "7ee6cf70",
   "metadata": {},
   "source": [
    "Between men and women, it is unsurprising that, on average, men's times were faster than women's.  It does appear that women's performances are more condensed in its distribution, although there a could of single performances that are extreme outliers.\n",
    "\n",
    "In diving into other categories, seeing how they relate, along with a men/women split, may provide additional insight about the outliers within each group."
   ]
  },
  {
   "cell_type": "code",
   "execution_count": 24,
   "id": "69e463a0",
   "metadata": {},
   "outputs": [],
   "source": [
    "men_df = df[df['gender'] == 'M']\n",
    "women_df = df[df['gender'] == 'W']"
   ]
  },
  {
   "cell_type": "code",
   "execution_count": 25,
   "id": "55bcf0e1",
   "metadata": {},
   "outputs": [
    {
     "data": {
      "image/png": "[encoded data removed]",
      "text/plain": [
       "<Figure size 800x400 with 3 Axes>"
      ]
     },
     "metadata": {},
     "output_type": "display_data"
    }
   ],
   "source": [
    "fig, ax = plt.subplots(1, 3, sharey = True, figsize = (8,4), layout = 'constrained')\n",
    "\n",
    "sns.boxplot(x = df['on_team'], y = df['finish_net_sec'], ax = ax[0])\n",
    "ax[0].set(ylabel = None, xlabel = 'Everyone')\n",
    "sns.boxplot(x = women_df['on_team'], y = women_df['finish_net_sec'], ax = ax[1])\n",
    "ax[1].set(ylabel = None, xlabel = 'Women')\n",
    "sns.boxplot(x = men_df['on_team'], y = men_df['finish_net_sec'], ax = ax[2])\n",
    "ax[2].set(ylabel = None, xlabel = 'Men')\n",
    "\n",
    "fig.suptitle('Comparing Finish Times for Runners On/Off Teams')\n",
    "fig.supylabel('Finish Time (sec)')\n",
    "fig.supxlabel('On Team')\n",
    "\n",
    "plt.show()"
   ]
  },
  {
   "cell_type": "markdown",
   "id": "f698aca1",
   "metadata": {},
   "source": [
    "It appears that the biggest outliers were runners that were not on a team.  Considering the vast majority of runners were not on a team, that doesn't come as a big surprise but is still noteworthy."
   ]
  },
  {
   "cell_type": "code",
   "execution_count": 26,
   "id": "f4f6a615",
   "metadata": {},
   "outputs": [
    {
     "data": {
      "image/png": "[encoded data removed]",
      "text/plain": [
       "<Figure size 800x1200 with 3 Axes>"
      ]
     },
     "metadata": {},
     "output_type": "display_data"
    }
   ],
   "source": [
    "fig, ax = plt.subplots(3, 1, sharey = True, figsize = (8,12), layout = 'constrained')\n",
    "\n",
    "sns.boxplot(x = df['age_group'], y = df['finish_net_sec'], ax = ax[0])\n",
    "ax[0].set(ylabel = None, xlabel = 'Everyone')\n",
    "sns.boxplot(x = women_df['age_group'], y = women_df['finish_net_sec'], ax = ax[1])\n",
    "ax[1].set(ylabel = None, xlabel = 'Women')\n",
    "sns.boxplot(x = men_df['age_group'], y = men_df['finish_net_sec'], ax = ax[2])\n",
    "ax[2].set(ylabel = None, xlabel = 'Men')\n",
    "\n",
    "fig.suptitle('Comparing Finish Times By Age Groups')\n",
    "fig.supylabel('Finish Time (sec)')\n",
    "fig.supxlabel('Age Groups')\n",
    "\n",
    "plt.show()"
   ]
  },
  {
   "cell_type": "markdown",
   "id": "5462b192",
   "metadata": {},
   "source": [
    "The 18-39 age group is the fastest age group on average, but the slowest time overall appears to be a women in that age group.  That would seem to make it the biggest outlier between all age groups."
   ]
  },
  {
   "cell_type": "markdown",
   "id": "51c7d457",
   "metadata": {},
   "source": [
    "### 2. Which race times would be considered outliers?\n",
    "\n",
    "For comparing times, and getting a sense of the data for the future questions about identifying outliers, I first want to see a comparison of finish times between Men and Women.  From there, I'd like to see not just the comparison of finish times between runners on/off teams and age groups, but also dividing those within groups of Men and Women.  This will give us the best sense of where the biggest outliers will be."
   ]
  },
  {
   "cell_type": "code",
   "execution_count": 27,
   "id": "308f427f",
   "metadata": {},
   "outputs": [
    {
     "data": {
      "image/png": "[encoded data removed]",
      "text/plain": [
       "<Figure size 600x400 with 2 Axes>"
      ]
     },
     "metadata": {},
     "output_type": "display_data"
    }
   ],
   "source": [
    "fig, ax = plt.subplots(1, 2, figsize = (6, 4), layout = 'tight')\n",
    "\n",
    "sns.boxplot(y = df['finish_net_sec'], ax = ax[0])\n",
    "ax[0].set_xlabel('Everyone')\n",
    "sns.boxplot(x = df['gender'], y = df['finish_net_sec'], ax = ax[1])\n",
    "\n",
    "plt.show()"
   ]
  },
  {
   "cell_type": "markdown",
   "id": "690c1bbb",
   "metadata": {},
   "source": [
    "On visualization, it would appear that very high `finish_net_sec` results, that is to say very SLOW results, are the outliers.  While we generally consider extremely fast runners as outliers as performers, when compared to the results of a elite race such as the Boston Marathon, it is the extremely slow times that seem to be actual mathematical outliers.\n",
    "\n",
    "I'll confirm this to see what proportion of all of the finishers were Fast Outliers and Slow Outliers."
   ]
  },
  {
   "cell_type": "code",
   "execution_count": 28,
   "id": "ac718101",
   "metadata": {},
   "outputs": [],
   "source": [
    "q1 = np.percentile(df['finish_net_sec'], 25)\n",
    "q3 = np.percentile(df['finish_net_sec'], 75)\n",
    "iqr = q3 - q1\n",
    "\n",
    "lower_bound = q1 - 1.5 * iqr\n",
    "upper_bound = q3 + 1.5 * iqr"
   ]
  },
  {
   "cell_type": "code",
   "execution_count": 29,
   "id": "d248336b",
   "metadata": {},
   "outputs": [
    {
     "name": "stdout",
     "output_type": "stream",
     "text": [
      "To be a FAST outlier, the runner has to be faster than 6660.0 seconds\n",
      "To be a SLOW outlier, the runner has to be slower than 19471.0 seconds\n"
     ]
    }
   ],
   "source": [
    "print(f'To be a FAST outlier, the runner has to be faster than {round(lower_bound, 0)} seconds')\n",
    "print(f'To be a SLOW outlier, the runner has to be slower than {round(upper_bound, 0)} seconds')"
   ]
  },
  {
   "cell_type": "markdown",
   "id": "449e6872",
   "metadata": {},
   "source": [
    "To be considered an FAST outlier, the runner had to run the marathon in 6660 seconds, or a total time of 1 hour, 51 minutes and 0 seconds.  At the time of the race, this would be more than 10 minutes FASTER than the men's World Record for the Marathon which would seem impossible."
   ]
  },
  {
   "cell_type": "code",
   "execution_count": 30,
   "id": "8f43a0ec",
   "metadata": {},
   "outputs": [],
   "source": [
    "fast_outliers = [x for x in df['finish_net_sec'] if x < lower_bound]\n",
    "slow_outliers = [x for x in df['finish_net_sec'] if x > upper_bound]"
   ]
  },
  {
   "cell_type": "code",
   "execution_count": 31,
   "id": "a516fbc8",
   "metadata": {},
   "outputs": [
    {
     "name": "stdout",
     "output_type": "stream",
     "text": [
      "0.0% of results were FAST Outliers\n",
      "3.3048% of results were SLOW Outliers\n"
     ]
    }
   ],
   "source": [
    "print(f'{round(len(fast_outliers)/len(df)*100, 4)}% of results were FAST Outliers')\n",
    "print(f'{round(len(slow_outliers)/len(df)*100, 4)}% of results were SLOW Outliers')"
   ]
  },
  {
   "cell_type": "code",
   "execution_count": 32,
   "id": "44da3946",
   "metadata": {},
   "outputs": [
    {
     "data": {
      "text/plain": [
       "879"
      ]
     },
     "execution_count": 32,
     "metadata": {},
     "output_type": "execute_result"
    }
   ],
   "source": [
    "len(slow_outliers)"
   ]
  },
  {
   "cell_type": "markdown",
   "id": "8db4720d",
   "metadata": {},
   "source": [
    "This confirms that all of the outliers were those who ran the marathon too SLOW, with 3.3% of all racers finishing slower than the upper bound of 'normal' results."
   ]
  },
  {
   "cell_type": "markdown",
   "id": "e658467a",
   "metadata": {},
   "source": [
    "### 3. Are there extreme outliers?"
   ]
  },
  {
   "cell_type": "markdown",
   "id": "4b736f01",
   "metadata": {},
   "source": [
    "While it has been confirmed that nearly 1% of the times were outliers using an Interquartile Range (IQR) method.  To find even more extreme outliers, perhaps using +/- 3 standard deviations will show more specific results for extreme outliers."
   ]
  },
  {
   "cell_type": "code",
   "execution_count": 33,
   "id": "f332b072",
   "metadata": {},
   "outputs": [],
   "source": [
    "fast_outlier_time = df['finish_net_sec'].mean() - df['finish_net_sec'].std()*3\n",
    "slow_outlier_time = df['finish_net_sec'].mean() + df['finish_net_sec'].std()*3"
   ]
  },
  {
   "cell_type": "code",
   "execution_count": 34,
   "id": "9236bb72",
   "metadata": {},
   "outputs": [
    {
     "data": {
      "text/plain": [
       "0"
      ]
     },
     "execution_count": 34,
     "metadata": {},
     "output_type": "execute_result"
    }
   ],
   "source": [
    "round(len(df.loc[df['finish_net_sec'] <= fast_outlier_time]), 4)"
   ]
  },
  {
   "cell_type": "code",
   "execution_count": 35,
   "id": "e968e69a",
   "metadata": {},
   "outputs": [
    {
     "data": {
      "text/plain": [
       "204"
      ]
     },
     "execution_count": 35,
     "metadata": {},
     "output_type": "execute_result"
    }
   ],
   "source": [
    "round(len(df.loc[df['finish_net_sec'] >= slow_outlier_time]), 4)"
   ]
  },
  {
   "cell_type": "code",
   "execution_count": 36,
   "id": "2deb4926",
   "metadata": {},
   "outputs": [
    {
     "data": {
      "text/plain": [
       "0.767"
      ]
     },
     "execution_count": 36,
     "metadata": {},
     "output_type": "execute_result"
    }
   ],
   "source": [
    "round(len(df.loc[df['finish_net_sec'] >= (df['finish_net_sec'].mean() + df['finish_net_sec'].std()*3)])/len(df)*100, 3)"
   ]
  },
  {
   "cell_type": "markdown",
   "id": "f0632613",
   "metadata": {},
   "source": [
    "Similar to using the IQR method, there are no extreme outliers on the faster side of the results.\n",
    "\n",
    "However, there were significantly fewer outliers via standard deviation overall, with only 0.767% of the slower performances classifying as an outlier.\n",
    "\n",
    "This again confirms that there were only outliers on the slower side of the results."
   ]
  },
  {
   "cell_type": "markdown",
   "id": "eced66e0",
   "metadata": {},
   "source": [
    "### 4. Which runner, the top male or top female, was more remarkable in comparison to their respective fields?"
   ]
  },
  {
   "cell_type": "markdown",
   "id": "89e2af2e",
   "metadata": {},
   "source": [
    "In this instance, 'most remarkable' is relatively vague.  However, given that the assigned questions have been focused on identifying outliers within the data, I will use the same processes to determine whether the Men's or the Women's winner was a greater outlier relative to their respective fields."
   ]
  },
  {
   "cell_type": "code",
   "execution_count": 37,
   "id": "21a18656",
   "metadata": {},
   "outputs": [],
   "source": [
    "fastest_man = df.loc[df['gender'] == 'M', 'finish_net_sec'].min()\n",
    "fastest_woman = df.loc[df['gender'] == 'W', 'finish_net_sec'].min()"
   ]
  },
  {
   "cell_type": "code",
   "execution_count": 38,
   "id": "ff9083dd",
   "metadata": {},
   "outputs": [
    {
     "name": "stdout",
     "output_type": "stream",
     "text": [
      "1.6 IQRs\n",
      "1.98 Standard Deviations\n"
     ]
    }
   ],
   "source": [
    "m_q1 = np.percentile(men_df['finish_net_sec'], 25)\n",
    "m_q3 = np.percentile(men_df['finish_net_sec'], 75)\n",
    "m_iqr = m_q3 - m_q1\n",
    "average_man = df.loc[df['gender'] == 'M', 'finish_net_sec'].mean()\n",
    "m_std = df.loc[df['gender'] == 'M', 'finish_net_sec'].std()\n",
    "print(f'{round((average_man-fastest_man)/m_iqr, 2)} IQRs')\n",
    "print(f'{round((average_man-fastest_man)/m_std, 2)} Standard Deviations')"
   ]
  },
  {
   "cell_type": "code",
   "execution_count": 39,
   "id": "33f77a04",
   "metadata": {},
   "outputs": [
    {
     "name": "stdout",
     "output_type": "stream",
     "text": [
      "1.96 IQRs\n",
      "2.35 Standard Deviations\n"
     ]
    }
   ],
   "source": [
    "w_q1 = np.percentile(women_df['finish_net_sec'], 25)\n",
    "w_q3 = np.percentile(women_df['finish_net_sec'], 75)\n",
    "w_iqr = w_q3 - w_q1\n",
    "average_woman = df.loc[df['gender'] == 'W', 'finish_net_sec'].mean()\n",
    "w_std = df.loc[df['gender'] == 'W', 'finish_net_sec'].std()\n",
    "print(f'{round((average_woman-fastest_woman)/w_iqr, 2)} IQRs')\n",
    "print(f'{round((average_woman-fastest_woman)/w_std, 2)} Standard Deviations')"
   ]
  },
  {
   "cell_type": "code",
   "execution_count": 40,
   "id": "08542db1",
   "metadata": {},
   "outputs": [
    {
     "data": {
      "text/plain": [
       "0    Chebet, Evans\n",
       "Name: name, dtype: object"
      ]
     },
     "execution_count": 40,
     "metadata": {},
     "output_type": "execute_result"
    }
   ],
   "source": [
    "df.loc[(df['gender'] == 'M') & (df['place_gender'] == 1)]['name']"
   ]
  },
  {
   "cell_type": "code",
   "execution_count": 41,
   "id": "5f93909a",
   "metadata": {},
   "outputs": [
    {
     "data": {
      "text/plain": [
       "15175    Obiri, Hellen\n",
       "Name: name, dtype: object"
      ]
     },
     "execution_count": 41,
     "metadata": {},
     "output_type": "execute_result"
    }
   ],
   "source": [
    "df.loc[(df['gender'] == 'W') & (df['place_gender'] == 1)]['name']"
   ]
  },
  {
   "cell_type": "markdown",
   "id": "cc7778c7",
   "metadata": {},
   "source": [
    "Either way that you look at it, Hellen Obiri's performance within the women's race was more of a performance outlier than Evans Chebet's was in the men's race.  Hellen's performance was a more standout performance whether it was measured by IQR's (1.77 vs 1.62) or Standard Deviations (2.35 vs 1.98).\n",
    "\n",
    "An interesting note here is that when the entire field, men and women, there were no performances that were statistical outliers on the faster end of the dataset.  However, when compared to the results of their respective genders, both performances (and perhaps others) DID count as statistical outliers when using IQR method.  Both Hellen and Evans races were more than 1.5 IQRs less than the mean for their respective genders.\n",
    "\n",
    "This shows how important it is to appropriately categorize the dataset when it comes to identifying outliers.  While it was not requested within these questions, it is clear that the number of outliers, or at least the distribution of outliers between faster and slower runners, could change significantly if the data was separated into men's and women's results."
   ]
  },
  {
   "cell_type": "markdown",
   "id": "deeb073f",
   "metadata": {},
   "source": [
    "### BONUS. Which runner was the most remarkable respective of their Gender & Age Group?"
   ]
  },
  {
   "cell_type": "markdown",
   "id": "ffa275da",
   "metadata": {},
   "source": [
    "While it is interesting to see that Women's winner was a more remarkable performance than the Men's winner when compared to their respective competitions, I thought it would be interesting to see which performance across all age groups within each gender group had the most remarkable performance."
   ]
  },
  {
   "cell_type": "code",
   "execution_count": 42,
   "id": "6f82104f",
   "metadata": {},
   "outputs": [
    {
     "name": "stdout",
     "output_type": "stream",
     "text": [
      "Sara Hall in the W40-44 age group was the most remarkable runner when comparing all age group categories.\n",
      "The time of 8748 was 2.66 IQRs faster than the mean within their age group.\n"
     ]
    }
   ],
   "source": [
    "my_dict = {}\n",
    "\n",
    "my_list = []\n",
    "\n",
    "for gender in df['gender'].unique():\n",
    "    for ag in df['age_group'].unique():\n",
    "\n",
    "        ag_df = df[(df['gender'] == gender) & (df['age_group'] == ag)]\n",
    "        fastest_ag = ag_df['finish_net_sec'].min()\n",
    "        ag_q1 = np.percentile(ag_df['finish_net_sec'], 25)\n",
    "        ag_q3 = np.percentile(ag_df['finish_net_sec'], 75)\n",
    "        ag_iqr = ag_q3 - ag_q1\n",
    "        average_ag = ag_df['finish_net_sec'].mean()\n",
    "        my_dict[f'{gender}{ag}'] = round((average_ag-fastest_ag)/ag_iqr, 2)\n",
    "\n",
    "best_gender = max(my_dict, key = my_dict.get)[0]\n",
    "best_ag = max(my_dict, key = my_dict.get)[1:]\n",
    "best_iqr = sorted(my_dict.values(), reverse = True)[0]\n",
    "\n",
    "best_df = df[(df['gender'] == best_gender) & (df['age_group'] == best_ag)]\n",
    "best_runner = best_df.loc[best_df['place_division'] == 1, 'name'].values[0]\n",
    "best_time = best_df.loc[best_df['place_division'] == 1, 'finish_net_sec'].values[0]\n",
    "\n",
    "print(f\"{best_runner.split(',')[1][1:]} {best_runner.split(',')[0]} in the {best_gender}{best_ag} age group was the most remarkable runner when comparing all age group categories.\")\n",
    "print(f\"The time of {best_time} was {best_iqr} IQRs faster than the mean within their age group.\")"
   ]
  }
 ],
 "metadata": {
  "kernelspec": {
   "display_name": "Python 3 (ipykernel)",
   "language": "python",
   "name": "python3"
  },
  "language_info": {
   "codemirror_mode": {
    "name": "ipython",
    "version": 3
   },
   "file_extension": ".py",
   "mimetype": "text/x-python",
   "name": "python",
   "nbconvert_exporter": "python",
   "pygments_lexer": "ipython3",
   "version": "3.11.4"
  }
 },
 "nbformat": 4,
 "nbformat_minor": 5
}
